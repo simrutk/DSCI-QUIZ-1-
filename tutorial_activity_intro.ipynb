{
 "cells": [
  {
   "cell_type": "markdown",
   "metadata": {
    "deletable": false,
    "editable": false,
    "nbgrader": {
     "cell_type": "markdown",
     "checksum": "234d3ceed0479e103bde018c00deac49",
     "grade": false,
     "grade_id": "cell-f141551e7fb01617",
     "locked": true,
     "schema_version": 3,
     "solution": false,
     "task": false
    }
   },
   "source": [
    "# Class Activity\n",
    "## Week 1\n",
    "\n",
    "For this activity, we'll be using a dataset called `penguins` which is included in the [palmerpenguins](https://github.com/allisonhorst/palmerpenguins) package. Data were collected and made available by Dr. Kristen Gorman and the Palmer Station, Antarctica LTER.\n",
    "Let's read the data in from the web and take a look at the variables in the dataset `penguins`."
   ]
  },
  {
   "cell_type": "code",
   "execution_count": 2,
   "metadata": {
    "deletable": false,
    "editable": false,
    "nbgrader": {
     "cell_type": "code",
     "checksum": "d2cfdd376501a7a65701fb3b40f2aefa",
     "grade": false,
     "grade_id": "cell-f0e2ac03914a78f3",
     "locked": true,
     "schema_version": 3,
     "solution": false,
     "task": false
    }
   },
   "outputs": [
    {
     "name": "stderr",
     "output_type": "stream",
     "text": [
      "Parsed with column specification:\n",
      "cols(\n",
      "  species = \u001b[31mcol_character()\u001b[39m,\n",
      "  island = \u001b[31mcol_character()\u001b[39m,\n",
      "  bill_length_mm = \u001b[32mcol_double()\u001b[39m,\n",
      "  bill_depth_mm = \u001b[32mcol_double()\u001b[39m,\n",
      "  flipper_length_mm = \u001b[32mcol_double()\u001b[39m,\n",
      "  body_mass_g = \u001b[32mcol_double()\u001b[39m,\n",
      "  sex = \u001b[31mcol_character()\u001b[39m,\n",
      "  year = \u001b[32mcol_double()\u001b[39m\n",
      ")\n",
      "\n"
     ]
    },
    {
     "data": {
      "text/html": [
       "<table>\n",
       "<caption>A spec_tbl_df: 344 × 8</caption>\n",
       "<thead>\n",
       "\t<tr><th scope=col>species</th><th scope=col>island</th><th scope=col>bill_length_mm</th><th scope=col>bill_depth_mm</th><th scope=col>flipper_length_mm</th><th scope=col>body_mass_g</th><th scope=col>sex</th><th scope=col>year</th></tr>\n",
       "\t<tr><th scope=col>&lt;chr&gt;</th><th scope=col>&lt;chr&gt;</th><th scope=col>&lt;dbl&gt;</th><th scope=col>&lt;dbl&gt;</th><th scope=col>&lt;dbl&gt;</th><th scope=col>&lt;dbl&gt;</th><th scope=col>&lt;chr&gt;</th><th scope=col>&lt;dbl&gt;</th></tr>\n",
       "</thead>\n",
       "<tbody>\n",
       "\t<tr><td>Adelie</td><td>Torgersen</td><td>39.1</td><td>18.7</td><td>181</td><td>3750</td><td>male  </td><td>2007</td></tr>\n",
       "\t<tr><td>Adelie</td><td>Torgersen</td><td>39.5</td><td>17.4</td><td>186</td><td>3800</td><td>female</td><td>2007</td></tr>\n",
       "\t<tr><td>Adelie</td><td>Torgersen</td><td>40.3</td><td>18.0</td><td>195</td><td>3250</td><td>female</td><td>2007</td></tr>\n",
       "\t<tr><td>⋮</td><td>⋮</td><td>⋮</td><td>⋮</td><td>⋮</td><td>⋮</td><td>⋮</td><td>⋮</td></tr>\n",
       "\t<tr><td>Chinstrap</td><td>Dream</td><td>49.6</td><td>18.2</td><td>193</td><td>3775</td><td>male  </td><td>2009</td></tr>\n",
       "\t<tr><td>Chinstrap</td><td>Dream</td><td>50.8</td><td>19.0</td><td>210</td><td>4100</td><td>male  </td><td>2009</td></tr>\n",
       "\t<tr><td>Chinstrap</td><td>Dream</td><td>50.2</td><td>18.7</td><td>198</td><td>3775</td><td>female</td><td>2009</td></tr>\n",
       "</tbody>\n",
       "</table>\n"
      ],
      "text/latex": [
       "A spec\\_tbl\\_df: 344 × 8\n",
       "\\begin{tabular}{llllllll}\n",
       " species & island & bill\\_length\\_mm & bill\\_depth\\_mm & flipper\\_length\\_mm & body\\_mass\\_g & sex & year\\\\\n",
       " <chr> & <chr> & <dbl> & <dbl> & <dbl> & <dbl> & <chr> & <dbl>\\\\\n",
       "\\hline\n",
       "\t Adelie & Torgersen & 39.1 & 18.7 & 181 & 3750 & male   & 2007\\\\\n",
       "\t Adelie & Torgersen & 39.5 & 17.4 & 186 & 3800 & female & 2007\\\\\n",
       "\t Adelie & Torgersen & 40.3 & 18.0 & 195 & 3250 & female & 2007\\\\\n",
       "\t ⋮ & ⋮ & ⋮ & ⋮ & ⋮ & ⋮ & ⋮ & ⋮\\\\\n",
       "\t Chinstrap & Dream & 49.6 & 18.2 & 193 & 3775 & male   & 2009\\\\\n",
       "\t Chinstrap & Dream & 50.8 & 19.0 & 210 & 4100 & male   & 2009\\\\\n",
       "\t Chinstrap & Dream & 50.2 & 18.7 & 198 & 3775 & female & 2009\\\\\n",
       "\\end{tabular}\n"
      ],
      "text/markdown": [
       "\n",
       "A spec_tbl_df: 344 × 8\n",
       "\n",
       "| species &lt;chr&gt; | island &lt;chr&gt; | bill_length_mm &lt;dbl&gt; | bill_depth_mm &lt;dbl&gt; | flipper_length_mm &lt;dbl&gt; | body_mass_g &lt;dbl&gt; | sex &lt;chr&gt; | year &lt;dbl&gt; |\n",
       "|---|---|---|---|---|---|---|---|\n",
       "| Adelie | Torgersen | 39.1 | 18.7 | 181 | 3750 | male   | 2007 |\n",
       "| Adelie | Torgersen | 39.5 | 17.4 | 186 | 3800 | female | 2007 |\n",
       "| Adelie | Torgersen | 40.3 | 18.0 | 195 | 3250 | female | 2007 |\n",
       "| ⋮ | ⋮ | ⋮ | ⋮ | ⋮ | ⋮ | ⋮ | ⋮ |\n",
       "| Chinstrap | Dream | 49.6 | 18.2 | 193 | 3775 | male   | 2009 |\n",
       "| Chinstrap | Dream | 50.8 | 19.0 | 210 | 4100 | male   | 2009 |\n",
       "| Chinstrap | Dream | 50.2 | 18.7 | 198 | 3775 | female | 2009 |\n",
       "\n"
      ],
      "text/plain": [
       "    species   island    bill_length_mm bill_depth_mm flipper_length_mm\n",
       "1   Adelie    Torgersen 39.1           18.7          181              \n",
       "2   Adelie    Torgersen 39.5           17.4          186              \n",
       "3   Adelie    Torgersen 40.3           18.0          195              \n",
       "⋮   ⋮         ⋮         ⋮              ⋮             ⋮                \n",
       "342 Chinstrap Dream     49.6           18.2          193              \n",
       "343 Chinstrap Dream     50.8           19.0          210              \n",
       "344 Chinstrap Dream     50.2           18.7          198              \n",
       "    body_mass_g sex    year\n",
       "1   3750        male   2007\n",
       "2   3800        female 2007\n",
       "3   3250        female 2007\n",
       "⋮   ⋮           ⋮      ⋮   \n",
       "342 3775        male   2009\n",
       "343 4100        male   2009\n",
       "344 3775        female 2009"
      ]
     },
     "metadata": {},
     "output_type": "display_data"
    }
   ],
   "source": [
    "options(repr.matrix.max.rows = 6)\n",
    "library(repr)\n",
    "library(tidyverse)\n",
    "penguins <- read_csv(\"https://raw.githubusercontent.com/allisonhorst/palmerpenguins/master/inst/extdata/penguins.csv\")\n",
    "penguins"
   ]
  },
  {
   "cell_type": "markdown",
   "metadata": {
    "deletable": false,
    "editable": false,
    "nbgrader": {
     "cell_type": "markdown",
     "checksum": "41f47e3ee324f5adaa8f1b85c1afbae9",
     "grade": false,
     "grade_id": "cell-e60f6e13a523d649",
     "locked": true,
     "schema_version": 3,
     "solution": false,
     "task": false
    }
   },
   "source": [
    "Note the `<dbl>`, `<int>`, and `<fct>` below the variable names. Use Google to find out what those mean, and fill in the answer below."
   ]
  },
  {
   "cell_type": "markdown",
   "metadata": {
    "deletable": false,
    "nbgrader": {
     "cell_type": "markdown",
     "checksum": "d8307df82e12009f83af8d8e3489b38a",
     "grade": true,
     "grade_id": "cell-3a4bf45087d63a74",
     "locked": false,
     "points": 0,
     "schema_version": 3,
     "solution": true,
     "task": false
    }
   },
   "source": [
    "<br> `<dbl>`: Double: A double floating point precision, ie. a real number. Ex. 1, 1.2, -3.5\n",
    "<br> `<int>`: Integer: A special type of numeric data without decimal point. Ex. 3,5,-7,0\n",
    "<br> `<fct>`: Factor: Denoting a category type. \n",
    "<br> '<chr>': Character: \"1\" \"word\"\n",
    "\n",
    "DOUBLE CLICK TO EDIT **THIS CELL** AND REPLACE THIS TEXT WITH YOUR ANSWER."
   ]
  },
  {
   "cell_type": "markdown",
   "metadata": {
    "deletable": false,
    "editable": false,
    "nbgrader": {
     "cell_type": "markdown",
     "checksum": "01cef9bf737715080f2ad5a5b11a2de8",
     "grade": false,
     "grade_id": "cell-a00a2745683d59c8",
     "locked": true,
     "schema_version": 3,
     "solution": false,
     "task": false
    }
   },
   "source": [
    "The different species of penguin in the `penguins` data set. \n",
    "<figure>\n",
    "  <img src=\"https://github.com/allisonhorst/palmerpenguins/raw/master/man/figures/lter_penguins.png\" width=\"500\">\n",
    "  <figcaption>\n",
    "    <p>Artwork by @allison_horst</p>\n",
    "  </figcaption>\n",
    "</figure>\n"
   ]
  },
  {
   "cell_type": "markdown",
   "metadata": {
    "deletable": false,
    "editable": false,
    "nbgrader": {
     "cell_type": "markdown",
     "checksum": "fd88a024816e6d4757b289a3bbeec14d",
     "grade": false,
     "grade_id": "cell-56b7a2d8958ab857",
     "locked": true,
     "schema_version": 3,
     "solution": false,
     "task": false
    }
   },
   "source": [
    "Use R to create a scatter plot to explore the relationship between body mass and flipper length for **only** the chinstrap species of penguins. Put flipper length on the y-axis and body mass on the x-axis. Give your axis labels human readable names.\n",
    "\n",
    "BONUS: Use the `ggtitle()` feature of ggplot to add a title to your graph. "
   ]
  },
  {
   "cell_type": "code",
   "execution_count": null,
   "metadata": {
    "deletable": false,
    "editable": false,
    "nbgrader": {
     "cell_type": "code",
     "checksum": "e1a4f2b5c85d7569808aa2cfc776befd",
     "grade": false,
     "grade_id": "cell-570826cf02fab46f",
     "locked": true,
     "schema_version": 3,
     "solution": false,
     "task": false
    }
   },
   "outputs": [],
   "source": [
    "# run this cell\n",
    "options(repr.plot.width=8, repr.plot.height=8)"
   ]
  },
  {
   "cell_type": "code",
   "execution_count": 3,
   "metadata": {
    "deletable": false,
    "nbgrader": {
     "cell_type": "code",
     "checksum": "283d019b38ea6e8f0186c5cdb76b73ac",
     "grade": true,
     "grade_id": "cell-8d5bdf3d1b62c90c",
     "locked": false,
     "points": 0,
     "schema_version": 3,
     "solution": true,
     "task": false
    }
   },
   "outputs": [
    {
     "data": {
      "image/png": "[encoded data removed]",
      "text/plain": [
       "plot without title"
      ]
     },
     "metadata": {
      "image/png": {
       "height": 420,
       "width": 420
      }
     },
     "output_type": "display_data"
    }
   ],
   "source": [
    "#chinstrap <- filter(..., species == \"Chinstrap\")\n",
    "#chinstrap_plot  <- ggplot(chinstrap, aes(x = body_mass_g, y = ...)) +\n",
    "#    geom_point() +\n",
    "#    xlab(\"...\") +\n",
    "#    ylab(\"...\") +\n",
    "#    ggtitle(\"...\")\n",
    "\n",
    "# your code here\n",
    "chinstrap <- filter(penguins, species == \"Chinstrap\")\n",
    "chinstrap_plot  <- ggplot(chinstrap, aes(x = body_mass_g, y = flipper_length_mm)) +\n",
    "   geom_point() +\n",
    "   xlab(\"Body Mass (g)\") +\n",
    "   ylab(\"Flipper Length (mm)\") +\n",
    "   ggtitle(\"Body Mass vs. Flipper Length of Chinstrap Penguins\")\n",
    "\n",
    "chinstrap_plot"
   ]
  },
  {
   "cell_type": "markdown",
   "metadata": {
    "deletable": false,
    "editable": false,
    "nbgrader": {
     "cell_type": "markdown",
     "checksum": "25fb4c68cf3dd5123bc0348fc9b25c13",
     "grade": false,
     "grade_id": "cell-a0c5f4292c613bce",
     "locked": true,
     "schema_version": 3,
     "solution": false,
     "task": false
    }
   },
   "source": [
    "#### Using the visualization we made, what can we say about the relationship between these variables?"
   ]
  },
  {
   "cell_type": "markdown",
   "metadata": {
    "deletable": false,
    "nbgrader": {
     "cell_type": "markdown",
     "checksum": "d0340f25909512d04a5f6e68a454c6c9",
     "grade": true,
     "grade_id": "cell-9fcedc75f0793b1a",
     "locked": false,
     "points": 0,
     "schema_version": 3,
     "solution": true,
     "task": false
    }
   },
   "source": [
    "There is a positive relationship, because as body mass increases so does flipper length. It is a linear relationship because a majority of the data lies in a staright line. Because all the points are fairly tightly clustered around where we would draw a straight line, we would consider it a moderate relationship."
   ]
  },
  {
   "cell_type": "markdown",
   "metadata": {
    "deletable": false,
    "editable": false,
    "nbgrader": {
     "cell_type": "markdown",
     "checksum": "a2125f7a3bc52e52641025c9c25b9e6d",
     "grade": false,
     "grade_id": "cell-390d8c16ebbf5f06",
     "locked": true,
     "schema_version": 3,
     "solution": false,
     "task": false
    }
   },
   "source": [
    "### Data source\n",
    "Horst AM, Hill AP, Gorman KB (2020). palmerpenguins: Palmer Archipelago (Antarctica) penguin data. R package version 0.1.0. https://allisonhorst.github.io/palmerpenguins/"
   ]
  }
 ],
 "metadata": {
  "kernelspec": {
   "display_name": "R",
   "language": "R",
   "name": "ir"
  },
  "language_info": {
   "codemirror_mode": "r",
   "file_extension": ".r",
   "mimetype": "text/x-r-source",
   "name": "R",
   "pygments_lexer": "r",
   "version": "4.0.0"
  }
 },
 "nbformat": 4,
 "nbformat_minor": 4
}
